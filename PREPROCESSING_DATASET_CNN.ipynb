{
  "nbformat": 4,
  "nbformat_minor": 0,
  "metadata": {
    "colab": {
      "provenance": []
    },
    "kernelspec": {
      "name": "python3",
      "display_name": "Python 3"
    },
    "language_info": {
      "name": "python"
    }
  },
  "cells": [
    {
      "cell_type": "code",
      "execution_count": null,
      "metadata": {
        "colab": {
          "base_uri": "https://localhost:8080/"
        },
        "id": "3ntbuWjkL8zk",
        "outputId": "c17d9902-3ea8-4dcd-dd57-43bab6d04c9f"
      },
      "outputs": [
        {
          "output_type": "stream",
          "name": "stdout",
          "text": [
            "Found 14034 images belonging to 6 classes.\n",
            "Found 3000 images belonging to 6 classes.\n",
            "Class indices: {'buildings': 0, 'forest': 1, 'glacier': 2, 'mountain': 3, 'sea': 4, 'street': 5}\n"
          ]
        }
      ],
      "source": [
        "import tensorflow as tf\n",
        "from tensorflow.keras.preprocessing.image import ImageDataGenerator\n",
        "import numpy as np\n",
        "train_datagen = ImageDataGenerator(\n",
        "    rescale=1./255,           # normalize pixel values (0-1)\n",
        "    rotation_range=20,        # random rotation\n",
        "    width_shift_range=0.2,    # horizontal shift\n",
        "    height_shift_range=0.2,   # vertical shift\n",
        "    shear_range=0.2,          # shear transformation\n",
        "    zoom_range=0.2,           # zoom\n",
        "    horizontal_flip=True,     # flip images horizontally\n",
        "    fill_mode='nearest'       # fill missing pixels after transform\n",
        ")\n",
        "\n",
        "# For validation/test data: only normalization\n",
        "test_datagen = ImageDataGenerator(rescale=1./255)\n",
        "train_generator = train_datagen.flow_from_directory(\n",
        "    train_path,                # path to training data\n",
        "    target_size=(150, 150),    # resize images to 150x150\n",
        "    batch_size=32,             # number of images per batch\n",
        "    class_mode='categorical'   # since we have 6 categories\n",
        ")\n",
        "\n",
        "# Testing/Validation generator\n",
        "test_generator = test_datagen.flow_from_directory(\n",
        "    test_path,\n",
        "    target_size=(150, 150),\n",
        "    batch_size=32,\n",
        "    class_mode='categorical'\n",
        ")\n",
        "print(\"Class indices:\", train_generator.class_indices)"
      ]
    }
  ]
}